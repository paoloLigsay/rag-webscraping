{
 "cells": [
  {
   "cell_type": "code",
   "execution_count": 24,
   "metadata": {},
   "outputs": [
    {
     "data": {
      "text/plain": [
       "[Document(page_content=\"A bunch of information about Paolo Ligsay from his website: https://paolomartinligsay.netlify.app/\\n\\nHello, I am Paolo Ligsay, a Front-end Engineer and I specialize in crafting code for visually stunning digital experiences, using my expertise in front end development.\\n\\nHi! I'm Paolo Ligsay 👋 a passionate and dedicated Front End developer with around 4 years of experience in front end development 👨\\u200d💻 I have had the opportunity to work with various technologies and frameworks, allowing me to adapt quickly ⚡️. Recently, I have learned to give importance to accessibility (a11y) which I consider now as a core principle that guides my work. I strongly believe that digital experiences should be inclusive and accessible to all users, regardless of their abilities. I priorities implementing accessible design principles and following WCAG guidelines to ensure that my projects are usable and enjoyable for everyone. 🤝🧑\\u200d🦯\\n\\nExperience five: Software Engineer @First Mate Technologies, PH. Utilized Supabase, Python and Next JS creating ai-powered applications, such as automating the drafting process for visa applications. Worked with building the first version of ALMA, a legal-tech startup co-founded by Harvard Law School and Harvard Business School graduates. Worked with a team to develop new features for Orb, a billing infrastructure trusted by companies like Pinecone and Perplexity. Experience four: Software Engineer @OneTeamAnywhere, PH. My current role involves leveraging React, React Admin, and Material UI to craft dynamic web pages, focusing primarily on front-end development. I specialize in transforming UI/UX designs into interactive and user-friendly experiences. Experience three: Front End Developer @CODE AND THEORY, MNL. January 2022 - June 2023 // Pasig, PH. Developing web pages with a wide variety of tech stack to meet client's requirements and features. We always give importance and promote accessibility (A11Y) on all projects to let people with disabilities access these websites with ease. Experience two: Associate Technical Support Engineer @ORACLE NETSUITE January 2021 - September 2021 // Makati, PH. Provided appropriate solutions and alternatives to US clients for issues regarding the following but not limited to: ODBC connection, SQL Queries, Integrations via SOAP XML, JSON and RESTlet Scripts, UI and Server scripting using Suitescript APIs, Etc.\\n\\nExperience one: Jr. Front End Engineer @UPWARD NEXT INC. July 2019 - January 2021 // Makati, PH. Program a performant and maintainable code for a diverse array of clients and projects and collaborated with a team of Filipino Developers and Japanese Designers to produce responsive web applications. Work with a variety of languages, libraries, tools and CMS such as Git, Javascript, Pug, Sass, Webpack, Wordpress, Etc.\\n\\nFeatured Project: Three: Project: Next, A comprehensive demonstration of a typical project workflow and the essential dependencies commonly employed in web development. This Project focuses more on the articles, documentation, and project set up. Please see its Github Repo for more information Using the following techt stack: NextJS, Vercel, TypeScript, Storybook, Tailwind Featured Project: Spotify Profile. A Spotify Clone that allows users to login and view their own profile. They can also play and view their playlists, check spotify's new releases, featured playlist and top artists. Using the following techt stack: Spotify API, Vue JS, Netlify Featured Project: The Ultimate Pokedex. A web app that lists all Pokemon information including type, image and abilities with a pokesearch box. Written in 2 Versions - React & Vue. Using the following techt stack: Poke API, Vue [v1], React [v2], SCSS, Netlify\\n\\nAdditional Information about Taal Batangas from wikipedia, a place nearby Paolo Ligsay: Taal is famous for its old ancestral houses, one particular ancestral house (now a museum) where Marcela Coronel Mariño de Agoncillo grew up in Taal, Batangas built in the 1770s by her grandparents, Don Andres Sauza Mariño and Doña Eugenia Diokno Mariño. Its poblacion (town proper) is designated as a National Historical Landmark. [5] The municipality is known as the Balisong and Barong Tagalog Capital of the Philippines. The town is home to hundreds of heritage structures dating from the Spanish colonial period. Scholars have been pushing for its inclusion in the UNESCO World Heritage List. Taal used to encompass a much more extensive area. In 1596, the former barrio of Bauan was established as a parish, effectively separating it from Taal. [11]\\n\\nFollowing the 1754 Taal Volcano eruption, the northern shoreline of Taal Lake that was previously part of Tanauan were annexed to Taal as Tanauan transferred from the lake's northwestern Tanauan Bay to Sala, its present-day barangay. It later became part of Talisay upon its establishment in 1869. [9]\\n\\nIn 1861, the southern parts of Taal were separated to form the new municipality of San Luis. [12] A year later, the northern and western parts of Taal were also separated to form the municipality of Lemery, which also consists the present-day Agoncillo.\\n\\nIn 1903, San Luis and Lemery were returned to Taal; San Luis's poblacion was reverted to its old name Balibago. [13] In 1904, the western Tanauan barrios of Balaquilong (Balakilong), Bayuyungan, Binirayan (Berinayan), Bugaan, and San Gabriel were annexed to Taal by virtue of Act No. 1244;[14] these barrios would eventually be returned to Talisay and become barangays of present-day Laurel. [15][16] Lemery and San Luis were once again separated from Taal and reconstituted as independent municipalities in 1906 and in 1918, respectively. [12][17]\\n\\nIn 1955, the northern barrios of San Nicolas, Gipit, Bangin, Pansipit, Calangay, Sinturisan, Talang, Abilo, Balete, Bancora, Saimsim, Maabud, Mulawin, Tambo, Calumala, Alasas, Calawit, and Pulangbato were separated from Taal to form the new municipality of San Nicolas. [18] In 1961, the eastern barrios of Sambat, Sinipian, Bihis, Calayaan, Irukan and Cutang Cawayan were separated from Taal to form the new municipality of Santa Teresita. [19]\\n\\nSince the Spanish period, the people of Taal lived by farming and commerce. The main produce are cotton, cacao and sugar which are made through the use of crude sugar mill called trapeche. Weaving and embroidery of barong and camisa (blouses) made from piña are popular home industries. Local embroidery businesses later expanded their products to include curtains, piano covers, pillowcases, tablecloth, table napkins and bed covers, adding more fame already earned by Taal embroidery.\\n\\nOther products produced in the town are balisong (butterfly knife) and various food treats such as the panocha (peanut brittle candy) and suman salehiya (a sweet suman), tapa (cured pork) and the local longganisa, all of which are available at the public market. Popular Taal dishes include adobo sa dilaw (yellow adobo) and sinaing na tulingan (bonita fish soup).\", metadata={'source': 'data/info.txt'})]"
      ]
     },
     "execution_count": 24,
     "metadata": {},
     "output_type": "execute_result"
    }
   ],
   "source": [
    "# Loading the data\n",
    "from langchain_community.document_loaders import DirectoryLoader\n",
    "\n",
    "loader = DirectoryLoader('data', glob=\"*.txt\")\n",
    "docs = loader.load()\n",
    "\n",
    "len(docs)\n",
    "docs"
   ]
  },
  {
   "cell_type": "code",
   "execution_count": 25,
   "metadata": {},
   "outputs": [
    {
     "data": {
      "text/plain": [
       "45"
      ]
     },
     "execution_count": 25,
     "metadata": {},
     "output_type": "execute_result"
    }
   ],
   "source": [
    "# Transforming the data\n",
    "from langchain_text_splitters import RecursiveCharacterTextSplitter\n",
    "\n",
    "# each docs will have 1000 characters: chunksize\n",
    "text_splitter = RecursiveCharacterTextSplitter(chunk_size = 250, chunk_overlap = 100)\n",
    "chunk_docs = text_splitter.split_documents(docs)\n",
    "\n",
    "len(chunk_docs)"
   ]
  },
  {
   "cell_type": "code",
   "execution_count": 26,
   "metadata": {},
   "outputs": [],
   "source": [
    "# embedding the chunks of data above\n",
    "from langchain_openai import OpenAIEmbeddings\n",
    "import os\n",
    "from dotenv import load_dotenv\n",
    "\n",
    "load_dotenv()\n",
    "\n",
    "openai_api_key = os.getenv(\"OPENAI_API_KEY\")\n",
    "pinecone_api_key = os.getenv(\"PINECONE_API_KEY\")\n",
    "\n",
    "embeddings = OpenAIEmbeddings(api_key=openai_api_key)"
   ]
  },
  {
   "cell_type": "code",
   "execution_count": 79,
   "metadata": {},
   "outputs": [],
   "source": [
    "# Index Creation\n",
    "from pinecone import Pinecone, ServerlessSpec\n",
    "\n",
    "pc = Pinecone(api_key=pinecone_api_key)\n",
    "index_name = \"pinecone-chat\"\n",
    "\n",
    "if index_name not in pc.list_indexes().names():\n",
    "    pc.create_index(\n",
    "        name = index_name,\n",
    "        # Notes[PAO] Dimension and metric is suggested in Pinecone > indexes > setup by model\n",
    "        dimension=1536,\n",
    "        metric=\"cosine\",\n",
    "        spec=ServerlessSpec(cloud=\"aws\", region=\"us-east-1\")\n",
    "    )"
   ]
  },
  {
   "cell_type": "code",
   "execution_count": 38,
   "metadata": {},
   "outputs": [
    {
     "data": {
      "text/plain": [
       "<langchain_pinecone.vectorstores.PineconeVectorStore at 0x158fbd350>"
      ]
     },
     "execution_count": 38,
     "metadata": {},
     "output_type": "execute_result"
    }
   ],
   "source": [
    "# Create embeddings\n",
    "from langchain_pinecone import PineconeVectorStore\n",
    "\n",
    "vector_store = PineconeVectorStore.from_documents(chunk_docs, embeddings, index_name=\"chatbot\")\n",
    "# vector_store = PineconeVectorStore.from_existing_index(embedding=embeddings, index_name=\"chatbot\")\n",
    "vector_store"
   ]
  },
  {
   "cell_type": "code",
   "execution_count": 37,
   "metadata": {},
   "outputs": [
    {
     "data": {
      "text/plain": [
       "[Document(page_content='Featured Project: Three: Project: Next, A comprehensive demonstration of a typical project workflow and the essential dependencies commonly employed in web development. This Project focuses more on the articles, documentation, and project set up.', metadata={'source': 'data/info.txt'}),\n",
       " Document(page_content='Featured Project: Three: Project: Next, A comprehensive demonstration of a typical project workflow and the essential dependencies commonly employed in web development. This Project focuses more on the articles, documentation, and project set up.', metadata={'source': 'data/info.txt'}),\n",
       " Document(page_content='in web development. This Project focuses more on the articles, documentation, and project set up. Please see its Github Repo for more information Using the following techt stack: NextJS, Vercel, TypeScript, Storybook, Tailwind Featured Project:', metadata={'source': 'data/info.txt'})]"
      ]
     },
     "execution_count": 37,
     "metadata": {},
     "output_type": "execute_result"
    }
   ],
   "source": [
    "query = \"What are the tech stack of Project Next?\"\n",
    "retriever = vector_store.as_retriever(search_kwargs = { \"k\":3 })\n",
    "retriever.get_relevant_documents(query)"
   ]
  },
  {
   "cell_type": "code",
   "execution_count": null,
   "metadata": {},
   "outputs": [],
   "source": []
  }
 ],
 "metadata": {
  "kernelspec": {
   "display_name": "Python 3",
   "language": "python",
   "name": "python3"
  },
  "language_info": {
   "codemirror_mode": {
    "name": "ipython",
    "version": 3
   },
   "file_extension": ".py",
   "mimetype": "text/x-python",
   "name": "python",
   "nbconvert_exporter": "python",
   "pygments_lexer": "ipython3",
   "version": "3.11.8"
  },
  "orig_nbformat": 4
 },
 "nbformat": 4,
 "nbformat_minor": 2
}
